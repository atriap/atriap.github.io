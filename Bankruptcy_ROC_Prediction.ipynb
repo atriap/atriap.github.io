{
  "nbformat": 4,
  "nbformat_minor": 0,
  "metadata": {
    "colab": {
      "name": "Bankruptcy_ROC_Prediction.ipynb",
      "provenance": [],
      "collapsed_sections": [
        "rx5k0QmNWgIW"
      ],
      "toc_visible": true,
      "include_colab_link": true
    },
    "kernelspec": {
      "display_name": "Python 3",
      "language": "python",
      "name": "python3"
    },
    "language_info": {
      "codemirror_mode": {
        "name": "ipython",
        "version": 3
      },
      "file_extension": ".py",
      "mimetype": "text/x-python",
      "name": "python",
      "nbconvert_exporter": "python",
      "pygments_lexer": "ipython3",
      "version": "3.9.2"
    }
  },
  "cells": [
    {
      "cell_type": "markdown",
      "metadata": {
        "id": "view-in-github",
        "colab_type": "text"
      },
      "source": [
        "<a href=\"https://colab.research.google.com/github/atriap/atrria/blob/main/Bankruptcy_ROC_Prediction.ipynb\" target=\"_parent\"><img src=\"https://colab.research.google.com/assets/colab-badge.svg\" alt=\"Open In Colab\"/></a>"
      ]
    },
    {
      "cell_type": "code",
      "metadata": {
        "id": "lVwRXe0fJ3g2"
      },
      "source": [
        "## REQUIRED LIBRARIES\n",
        "# For data wrangling \n",
        "import numpy as np\n",
        "import pandas as pd\n",
        "\n",
        "# For visualization\n",
        "import matplotlib.pyplot as plt\n",
        "%matplotlib inline\n",
        "import seaborn as sns\n",
        "pd.options.display.max_rows = None\n",
        "pd.options.display.max_columns = None"
      ],
      "execution_count": null,
      "outputs": []
    },
    {
      "cell_type": "markdown",
      "metadata": {
        "id": "AHlNapekUVQK"
      },
      "source": [
        "# Data Preparation"
      ]
    },
    {
      "cell_type": "code",
      "metadata": {
        "colab": {
          "base_uri": "https://localhost:8080/"
        },
        "id": "ZoY-EjV9KD99",
        "outputId": "fdffa625-7d5f-4a6c-ffde-0a7475b8a9f0"
      },
      "source": [
        "df = pd.read_csv('b_data.csv')\n",
        "df.shape"
      ],
      "execution_count": null,
      "outputs": [
        {
          "output_type": "execute_result",
          "data": {
            "text/plain": [
              "(6819, 14)"
            ]
          },
          "metadata": {
            "tags": []
          },
          "execution_count": 8
        }
      ]
    },
    {
      "cell_type": "code",
      "metadata": {
        "colab": {
          "base_uri": "https://localhost:8080/"
        },
        "id": "p-x7wXhrKFYu",
        "outputId": "76ed8d06-6132-4b3c-a318-b8a4010454b0"
      },
      "source": [
        "# Check columns list and missing values\n",
        "df.isnull().sum()"
      ],
      "execution_count": null,
      "outputs": [
        {
          "output_type": "execute_result",
          "data": {
            "text/plain": [
              "bankrupt                             0\n",
              "roa                                  0\n",
              "operating_gross_margin               0\n",
              "current_ratio                        0\n",
              "quick_ratio                          0\n",
              "interest_expense_ratio               0\n",
              "debt_ratio                           0\n",
              "working_capital_to_assets            0\n",
              "quick_asset_to_assets                0\n",
              "current_asset_to_assets              0\n",
              "cash_to_assets                       0\n",
              "quick_assets_to_current_liability    0\n",
              "cash_to_current_liability            0\n",
              "current_liability_to_assets          0\n",
              "dtype: int64"
            ]
          },
          "metadata": {
            "tags": []
          },
          "execution_count": 29
        }
      ]
    },
    {
      "cell_type": "code",
      "metadata": {
        "colab": {
          "base_uri": "https://localhost:8080/"
        },
        "id": "vNzVIPrNKKfD",
        "outputId": "84f0b3f1-ba10-468d-df77-f620f107d10c"
      },
      "source": [
        "# Get unique count for each variable\n",
        "df.nunique()"
      ],
      "execution_count": null,
      "outputs": [
        {
          "output_type": "execute_result",
          "data": {
            "text/plain": [
              "bankrupt                                2\n",
              "roa                                  3160\n",
              "operating_gross_margin               3781\n",
              "current_ratio                        6132\n",
              "quick_ratio                          6094\n",
              "interest_expense_ratio               3794\n",
              "debt_ratio                           4208\n",
              "working_capital_to_assets            6819\n",
              "quick_asset_to_assets                6819\n",
              "current_asset_to_assets              6819\n",
              "cash_to_assets                       6819\n",
              "quick_assets_to_current_liability    6818\n",
              "cash_to_current_liability            6810\n",
              "current_liability_to_assets          6819\n",
              "dtype: int64"
            ]
          },
          "metadata": {
            "tags": []
          },
          "execution_count": 30
        }
      ]
    },
    {
      "cell_type": "code",
      "metadata": {
        "colab": {
          "base_uri": "https://localhost:8080/",
          "height": 224
        },
        "id": "xNTrUZibKR3R",
        "outputId": "f3fbff40-cba6-41b5-ac8a-8ac25528c7e8"
      },
      "source": [
        "df.head()"
      ],
      "execution_count": null,
      "outputs": [
        {
          "output_type": "execute_result",
          "data": {
            "text/html": [
              "<div>\n",
              "<style scoped>\n",
              "    .dataframe tbody tr th:only-of-type {\n",
              "        vertical-align: middle;\n",
              "    }\n",
              "\n",
              "    .dataframe tbody tr th {\n",
              "        vertical-align: top;\n",
              "    }\n",
              "\n",
              "    .dataframe thead th {\n",
              "        text-align: right;\n",
              "    }\n",
              "</style>\n",
              "<table border=\"1\" class=\"dataframe\">\n",
              "  <thead>\n",
              "    <tr style=\"text-align: right;\">\n",
              "      <th></th>\n",
              "      <th>bankrupt</th>\n",
              "      <th>roa</th>\n",
              "      <th>operating_gross_margin</th>\n",
              "      <th>current_ratio</th>\n",
              "      <th>quick_ratio</th>\n",
              "      <th>interest_expense_ratio</th>\n",
              "      <th>debt_ratio</th>\n",
              "      <th>working_capital_to_assets</th>\n",
              "      <th>quick_asset_to_assets</th>\n",
              "      <th>current_asset_to_assets</th>\n",
              "      <th>cash_to_assets</th>\n",
              "      <th>quick_assets_to_current_liability</th>\n",
              "      <th>cash_to_current_liability</th>\n",
              "      <th>current_liability_to_assets</th>\n",
              "    </tr>\n",
              "  </thead>\n",
              "  <tbody>\n",
              "    <tr>\n",
              "      <th>0</th>\n",
              "      <td>1</td>\n",
              "      <td>0.405750</td>\n",
              "      <td>0.601457</td>\n",
              "      <td>0.002259</td>\n",
              "      <td>0.001208</td>\n",
              "      <td>0.629951</td>\n",
              "      <td>0.207576</td>\n",
              "      <td>0.672775</td>\n",
              "      <td>0.166673</td>\n",
              "      <td>0.190643</td>\n",
              "      <td>0.004094</td>\n",
              "      <td>0.001997</td>\n",
              "      <td>1.473360e-04</td>\n",
              "      <td>0.147308</td>\n",
              "    </tr>\n",
              "    <tr>\n",
              "      <th>1</th>\n",
              "      <td>1</td>\n",
              "      <td>0.516730</td>\n",
              "      <td>0.610235</td>\n",
              "      <td>0.006016</td>\n",
              "      <td>0.004039</td>\n",
              "      <td>0.635172</td>\n",
              "      <td>0.171176</td>\n",
              "      <td>0.751111</td>\n",
              "      <td>0.127236</td>\n",
              "      <td>0.182419</td>\n",
              "      <td>0.014948</td>\n",
              "      <td>0.004136</td>\n",
              "      <td>1.383910e-03</td>\n",
              "      <td>0.056963</td>\n",
              "    </tr>\n",
              "    <tr>\n",
              "      <th>2</th>\n",
              "      <td>1</td>\n",
              "      <td>0.472295</td>\n",
              "      <td>0.601450</td>\n",
              "      <td>0.011543</td>\n",
              "      <td>0.005348</td>\n",
              "      <td>0.629631</td>\n",
              "      <td>0.207516</td>\n",
              "      <td>0.829502</td>\n",
              "      <td>0.340201</td>\n",
              "      <td>0.602806</td>\n",
              "      <td>0.000991</td>\n",
              "      <td>0.006302</td>\n",
              "      <td>5.340000e+09</td>\n",
              "      <td>0.098162</td>\n",
              "    </tr>\n",
              "    <tr>\n",
              "      <th>3</th>\n",
              "      <td>1</td>\n",
              "      <td>0.457733</td>\n",
              "      <td>0.583541</td>\n",
              "      <td>0.004194</td>\n",
              "      <td>0.002896</td>\n",
              "      <td>0.630228</td>\n",
              "      <td>0.151465</td>\n",
              "      <td>0.725754</td>\n",
              "      <td>0.161575</td>\n",
              "      <td>0.225815</td>\n",
              "      <td>0.018851</td>\n",
              "      <td>0.002961</td>\n",
              "      <td>1.010646e-03</td>\n",
              "      <td>0.098715</td>\n",
              "    </tr>\n",
              "    <tr>\n",
              "      <th>4</th>\n",
              "      <td>1</td>\n",
              "      <td>0.522298</td>\n",
              "      <td>0.598783</td>\n",
              "      <td>0.006022</td>\n",
              "      <td>0.003727</td>\n",
              "      <td>0.636055</td>\n",
              "      <td>0.106509</td>\n",
              "      <td>0.751822</td>\n",
              "      <td>0.260330</td>\n",
              "      <td>0.358380</td>\n",
              "      <td>0.014161</td>\n",
              "      <td>0.004275</td>\n",
              "      <td>6.804640e-04</td>\n",
              "      <td>0.110195</td>\n",
              "    </tr>\n",
              "  </tbody>\n",
              "</table>\n",
              "</div>"
            ],
            "text/plain": [
              "   bankrupt       roa  operating_gross_margin  current_ratio  quick_ratio  \\\n",
              "0         1  0.405750                0.601457       0.002259     0.001208   \n",
              "1         1  0.516730                0.610235       0.006016     0.004039   \n",
              "2         1  0.472295                0.601450       0.011543     0.005348   \n",
              "3         1  0.457733                0.583541       0.004194     0.002896   \n",
              "4         1  0.522298                0.598783       0.006022     0.003727   \n",
              "\n",
              "   interest_expense_ratio  debt_ratio  working_capital_to_assets  \\\n",
              "0                0.629951    0.207576                   0.672775   \n",
              "1                0.635172    0.171176                   0.751111   \n",
              "2                0.629631    0.207516                   0.829502   \n",
              "3                0.630228    0.151465                   0.725754   \n",
              "4                0.636055    0.106509                   0.751822   \n",
              "\n",
              "   quick_asset_to_assets  current_asset_to_assets  cash_to_assets  \\\n",
              "0               0.166673                 0.190643        0.004094   \n",
              "1               0.127236                 0.182419        0.014948   \n",
              "2               0.340201                 0.602806        0.000991   \n",
              "3               0.161575                 0.225815        0.018851   \n",
              "4               0.260330                 0.358380        0.014161   \n",
              "\n",
              "   quick_assets_to_current_liability  cash_to_current_liability  \\\n",
              "0                           0.001997               1.473360e-04   \n",
              "1                           0.004136               1.383910e-03   \n",
              "2                           0.006302               5.340000e+09   \n",
              "3                           0.002961               1.010646e-03   \n",
              "4                           0.004275               6.804640e-04   \n",
              "\n",
              "   current_liability_to_assets  \n",
              "0                     0.147308  \n",
              "1                     0.056963  \n",
              "2                     0.098162  \n",
              "3                     0.098715  \n",
              "4                     0.110195  "
            ]
          },
          "metadata": {
            "tags": []
          },
          "execution_count": 31
        }
      ]
    },
    {
      "cell_type": "code",
      "metadata": {
        "colab": {
          "base_uri": "https://localhost:8080/"
        },
        "id": "9VZoOpavKUNq",
        "outputId": "1bbfc7f1-379d-4471-8d7b-2a39670c4163"
      },
      "source": [
        "df.dtypes"
      ],
      "execution_count": null,
      "outputs": [
        {
          "output_type": "execute_result",
          "data": {
            "text/plain": [
              "bankrupt                               int64\n",
              "roa                                  float64\n",
              "operating_gross_margin               float64\n",
              "current_ratio                        float64\n",
              "quick_ratio                          float64\n",
              "interest_expense_ratio               float64\n",
              "debt_ratio                           float64\n",
              "working_capital_to_assets            float64\n",
              "quick_asset_to_assets                float64\n",
              "current_asset_to_assets              float64\n",
              "cash_to_assets                       float64\n",
              "quick_assets_to_current_liability    float64\n",
              "cash_to_current_liability            float64\n",
              "current_liability_to_assets          float64\n",
              "dtype: object"
            ]
          },
          "metadata": {
            "tags": []
          },
          "execution_count": 32
        }
      ]
    },
    {
      "cell_type": "markdown",
      "metadata": {
        "id": "cAnyRmK_Ucvt"
      },
      "source": [
        "# Explanatory Data Analysis"
      ]
    },
    {
      "cell_type": "code",
      "metadata": {
        "colab": {
          "base_uri": "https://localhost:8080/",
          "height": 488
        },
        "id": "g9y0D_G7KXZB",
        "outputId": "1958dcc2-a6ea-4d5b-ca9b-1842e06c0e3b"
      },
      "source": [
        "labels = '1', '0'\n",
        "sizes = [df.bankrupt[df['bankrupt']==1].count(), df.bankrupt[df['bankrupt']==0].count()]\n",
        "explode = (0, 0.1)\n",
        "fig1, ax1 = plt.subplots(figsize=(10, 8))\n",
        "ax1.pie(sizes, explode=explode, labels=labels, autopct='%1.1f%%',\n",
        "        shadow=True, startangle=90)\n",
        "ax1.axis('equal')\n",
        "plt.title(\"Bankruptcy Proportion\", size = 20)\n",
        "plt.show()"
      ],
      "execution_count": null,
      "outputs": [
        {
          "output_type": "display_data",
          "data": {
            "image/png": "[encoded data removed]",
            "text/plain": [
              "<Figure size 720x576 with 1 Axes>"
            ]
          },
          "metadata": {
            "tags": []
          }
        }
      ]
    },
    {
      "cell_type": "code",
      "metadata": {
        "colab": {
          "base_uri": "https://localhost:8080/",
          "height": 732
        },
        "id": "W438MAdGK5WC",
        "outputId": "0fffe4c6-f782-47c2-ad25-386823daab88"
      },
      "source": [
        "    fig, axarr = plt.subplots(2, 2, figsize=(20, 12))\n",
        "    sns.countplot(x='operating_gross_margin', hue = 'bankrupt',data = df, ax=axarr[0][0])\n",
        "    sns.countplot(x='debt_ratio', hue = 'bankrupt',data = df, ax=axarr[0][1])\n",
        "    sns.countplot(x='roa', hue = 'bankrupt',data = df, ax=axarr[1][0])\n",
        "    sns.countplot(x='quick_ratio', hue = 'bankrupt',data = df, ax=axarr[1][1])"
      ],
      "execution_count": null,
      "outputs": [
        {
          "output_type": "execute_result",
          "data": {
            "text/plain": [
              "<matplotlib.axes._subplots.AxesSubplot at 0x7f1d93a6d750>"
            ]
          },
          "metadata": {
            "tags": []
          },
          "execution_count": 0
        },
        {
          "output_type": "display_data",
          "data": {
            "image/png": "[encoded data removed]",
            "text/plain": [
              "<Figure size 1440x864 with 4 Axes>"
            ]
          },
          "metadata": {
            "tags": [],
            "needs_background": "light"
          }
        }
      ]
    },
    {
      "cell_type": "code",
      "metadata": {
        "colab": {
          "base_uri": "https://localhost:8080/",
          "height": 731
        },
        "id": "hPoL5Am4MV_D",
        "outputId": "d16dea7c-9a83-435f-b1c6-47e3a300d01e"
      },
      "source": [
        "    # Relations based on the continuous data attributes\n",
        "    fig, axarr = plt.subplots(3, 2, figsize=(20, 12))\n",
        "    sns.boxplot(y='operating_gross_margin',x = 'bankrupt', hue = 'bankrupt',data = df, ax=axarr[0][0])\n",
        "    sns.boxplot(y='roa',x = 'bankrupt', hue = 'bankrupt',data = df , ax=axarr[0][1])\n",
        "    sns.boxplot(y='debt_ratio',x = 'bankrupt', hue = 'bankrupt',data = df, ax=axarr[1][0])\n",
        "    sns.boxplot(y='cash_to_assets',x = 'bankrupt', hue = 'bankrupt',data = df, ax=axarr[1][1])\n",
        "    sns.boxplot(y='working_capital_to_assets',x = 'bankrupt', hue = 'bankrupt',data = df, ax=axarr[2][0])\n",
        "    sns.boxplot(y='current_liability_to_assets',x = 'bankrupt', hue = 'bankrupt',data = df, ax=axarr[2][1])"
      ],
      "execution_count": null,
      "outputs": [
        {
          "output_type": "execute_result",
          "data": {
            "text/plain": [
              "<matplotlib.axes._subplots.AxesSubplot at 0x7f1d93e1d0d0>"
            ]
          },
          "metadata": {
            "tags": []
          },
          "execution_count": 23
        },
        {
          "output_type": "display_data",
          "data": {
            "image/png": "[encoded data removed]",
            "text/plain": [
              "<Figure size 1440x864 with 6 Axes>"
            ]
          },
          "metadata": {
            "tags": [],
            "needs_background": "light"
          }
        }
      ]
    },
    {
      "cell_type": "markdown",
      "metadata": {
        "id": "brmGKmciUifq"
      },
      "source": [
        "# Feature Engineering"
      ]
    },
    {
      "cell_type": "code",
      "metadata": {
        "colab": {
          "base_uri": "https://localhost:8080/"
        },
        "id": "aMOTgebtNGdf",
        "outputId": "46809fb3-4ac3-42e3-8ad4-637343770e07"
      },
      "source": [
        "# Split Train, test data\n",
        "df_train = df.sample(frac=0.8,random_state=200)\n",
        "df_test = df.drop(df_train.index)\n",
        "print(len(df_train))\n",
        "print(len(df_test))"
      ],
      "execution_count": null,
      "outputs": [
        {
          "output_type": "stream",
          "text": [
            "5455\n",
            "1364\n"
          ],
          "name": "stdout"
        }
      ]
    },
    {
      "cell_type": "code",
      "metadata": {
        "colab": {
          "base_uri": "https://localhost:8080/",
          "height": 300
        },
        "id": "WUkyoSO_NLGv",
        "outputId": "e75757fd-bcf4-42d5-bcfe-277683a96522"
      },
      "source": [
        "df_train['cash_to_assets']\n",
        "sns.boxplot(y='cash_to_assets',x = 'bankrupt', hue = 'bankrupt',data = df_train)\n",
        "plt.ylim(0, 1)"
      ],
      "execution_count": null,
      "outputs": [
        {
          "output_type": "execute_result",
          "data": {
            "text/plain": [
              "(0.0, 1.0)"
            ]
          },
          "metadata": {
            "tags": []
          },
          "execution_count": 35
        },
        {
          "output_type": "display_data",
          "data": {
            "image/png": "[encoded data removed]",
            "text/plain": [
              "<Figure size 432x288 with 1 Axes>"
            ]
          },
          "metadata": {
            "tags": [],
            "needs_background": "light"
          }
        }
      ]
    },
    {
      "cell_type": "code",
      "metadata": {
        "colab": {
          "base_uri": "https://localhost:8080/",
          "height": 224
        },
        "id": "ZEHISC9XNd9H",
        "outputId": "bb19a873-598e-4549-a87e-61672f3bb3e4"
      },
      "source": [
        "# New Data Frame\n",
        "df_train.head()"
      ],
      "execution_count": null,
      "outputs": [
        {
          "output_type": "execute_result",
          "data": {
            "text/html": [
              "<div>\n",
              "<style scoped>\n",
              "    .dataframe tbody tr th:only-of-type {\n",
              "        vertical-align: middle;\n",
              "    }\n",
              "\n",
              "    .dataframe tbody tr th {\n",
              "        vertical-align: top;\n",
              "    }\n",
              "\n",
              "    .dataframe thead th {\n",
              "        text-align: right;\n",
              "    }\n",
              "</style>\n",
              "<table border=\"1\" class=\"dataframe\">\n",
              "  <thead>\n",
              "    <tr style=\"text-align: right;\">\n",
              "      <th></th>\n",
              "      <th>bankrupt</th>\n",
              "      <th>roa</th>\n",
              "      <th>operating_gross_margin</th>\n",
              "      <th>current_ratio</th>\n",
              "      <th>quick_ratio</th>\n",
              "      <th>interest_expense_ratio</th>\n",
              "      <th>debt_ratio</th>\n",
              "      <th>working_capital_to_assets</th>\n",
              "      <th>quick_asset_to_assets</th>\n",
              "      <th>current_asset_to_assets</th>\n",
              "      <th>cash_to_assets</th>\n",
              "      <th>quick_assets_to_current_liability</th>\n",
              "      <th>cash_to_current_liability</th>\n",
              "      <th>current_liability_to_assets</th>\n",
              "    </tr>\n",
              "  </thead>\n",
              "  <tbody>\n",
              "    <tr>\n",
              "      <th>473</th>\n",
              "      <td>0</td>\n",
              "      <td>0.568178</td>\n",
              "      <td>0.621499</td>\n",
              "      <td>0.011855</td>\n",
              "      <td>0.006933</td>\n",
              "      <td>0.630951</td>\n",
              "      <td>0.078393</td>\n",
              "      <td>0.789311</td>\n",
              "      <td>0.189091</td>\n",
              "      <td>0.284409</td>\n",
              "      <td>0.065939</td>\n",
              "      <td>0.007685</td>\n",
              "      <td>0.007635</td>\n",
              "      <td>0.045454</td>\n",
              "    </tr>\n",
              "    <tr>\n",
              "      <th>6212</th>\n",
              "      <td>0</td>\n",
              "      <td>0.578564</td>\n",
              "      <td>0.609759</td>\n",
              "      <td>0.012415</td>\n",
              "      <td>0.009807</td>\n",
              "      <td>0.630662</td>\n",
              "      <td>0.081537</td>\n",
              "      <td>0.805324</td>\n",
              "      <td>0.322625</td>\n",
              "      <td>0.386253</td>\n",
              "      <td>0.105901</td>\n",
              "      <td>0.010057</td>\n",
              "      <td>0.009505</td>\n",
              "      <td>0.058774</td>\n",
              "    </tr>\n",
              "    <tr>\n",
              "      <th>4264</th>\n",
              "      <td>1</td>\n",
              "      <td>0.438086</td>\n",
              "      <td>0.609349</td>\n",
              "      <td>0.008250</td>\n",
              "      <td>0.005787</td>\n",
              "      <td>0.630184</td>\n",
              "      <td>0.190344</td>\n",
              "      <td>0.787303</td>\n",
              "      <td>0.499944</td>\n",
              "      <td>0.490401</td>\n",
              "      <td>0.040788</td>\n",
              "      <td>0.008191</td>\n",
              "      <td>0.001947</td>\n",
              "      <td>0.110956</td>\n",
              "    </tr>\n",
              "    <tr>\n",
              "      <th>1278</th>\n",
              "      <td>0</td>\n",
              "      <td>0.540393</td>\n",
              "      <td>0.596023</td>\n",
              "      <td>0.009957</td>\n",
              "      <td>0.002163</td>\n",
              "      <td>0.635096</td>\n",
              "      <td>0.153279</td>\n",
              "      <td>0.806102</td>\n",
              "      <td>0.168071</td>\n",
              "      <td>0.511473</td>\n",
              "      <td>0.055816</td>\n",
              "      <td>0.003161</td>\n",
              "      <td>0.003066</td>\n",
              "      <td>0.096352</td>\n",
              "    </tr>\n",
              "    <tr>\n",
              "      <th>2630</th>\n",
              "      <td>0</td>\n",
              "      <td>0.696183</td>\n",
              "      <td>0.643365</td>\n",
              "      <td>0.005842</td>\n",
              "      <td>0.005501</td>\n",
              "      <td>0.630802</td>\n",
              "      <td>0.114339</td>\n",
              "      <td>0.749673</td>\n",
              "      <td>0.179036</td>\n",
              "      <td>0.179763</td>\n",
              "      <td>0.111737</td>\n",
              "      <td>0.005710</td>\n",
              "      <td>0.010203</td>\n",
              "      <td>0.057760</td>\n",
              "    </tr>\n",
              "  </tbody>\n",
              "</table>\n",
              "</div>"
            ],
            "text/plain": [
              "      bankrupt       roa  operating_gross_margin  current_ratio  quick_ratio  \\\n",
              "473          0  0.568178                0.621499       0.011855     0.006933   \n",
              "6212         0  0.578564                0.609759       0.012415     0.009807   \n",
              "4264         1  0.438086                0.609349       0.008250     0.005787   \n",
              "1278         0  0.540393                0.596023       0.009957     0.002163   \n",
              "2630         0  0.696183                0.643365       0.005842     0.005501   \n",
              "\n",
              "      interest_expense_ratio  debt_ratio  working_capital_to_assets  \\\n",
              "473                 0.630951    0.078393                   0.789311   \n",
              "6212                0.630662    0.081537                   0.805324   \n",
              "4264                0.630184    0.190344                   0.787303   \n",
              "1278                0.635096    0.153279                   0.806102   \n",
              "2630                0.630802    0.114339                   0.749673   \n",
              "\n",
              "      quick_asset_to_assets  current_asset_to_assets  cash_to_assets  \\\n",
              "473                0.189091                 0.284409        0.065939   \n",
              "6212               0.322625                 0.386253        0.105901   \n",
              "4264               0.499944                 0.490401        0.040788   \n",
              "1278               0.168071                 0.511473        0.055816   \n",
              "2630               0.179036                 0.179763        0.111737   \n",
              "\n",
              "      quick_assets_to_current_liability  cash_to_current_liability  \\\n",
              "473                            0.007685                   0.007635   \n",
              "6212                           0.010057                   0.009505   \n",
              "4264                           0.008191                   0.001947   \n",
              "1278                           0.003161                   0.003066   \n",
              "2630                           0.005710                   0.010203   \n",
              "\n",
              "      current_liability_to_assets  \n",
              "473                      0.045454  \n",
              "6212                     0.058774  \n",
              "4264                     0.110956  \n",
              "1278                     0.096352  \n",
              "2630                     0.057760  "
            ]
          },
          "metadata": {
            "tags": []
          },
          "execution_count": 16
        }
      ]
    },
    {
      "cell_type": "code",
      "metadata": {
        "id": "_ckulh1gNgtB"
      },
      "source": [
        ""
      ],
      "execution_count": null,
      "outputs": []
    },
    {
      "cell_type": "markdown",
      "metadata": {
        "id": "hZe6zipEUoi3"
      },
      "source": [
        "# Data Preparation for Model Fitting"
      ]
    },
    {
      "cell_type": "code",
      "metadata": {
        "colab": {
          "base_uri": "https://localhost:8080/",
          "height": 224
        },
        "id": "wV4XlbH5NsPh",
        "outputId": "a07e6298-8ce4-4cbc-ad8e-875193edce8c"
      },
      "source": [
        "# Arrange columns by data type for easier manipulation\n",
        "continuous_vars = ['roa',  'operating_gross_margin', 'current_ratio', 'quick_ratio','interest_expense_ratio', 'debt_ratio', 'working_capital_to_assets',\n",
        "                   'quick_asset_to_assets', 'current_asset_to_assets', 'cash_to_assets', 'quick_assets_to_current_liability', 'cash_to_current_liability', 'current_liability_to_assets' ]\n",
        "cat_vars = ['bankrupt']\n",
        "df_train = df_train[['bankrupt'] + continuous_vars + cat_vars]\n",
        "df_train.head()"
      ],
      "execution_count": null,
      "outputs": [
        {
          "output_type": "execute_result",
          "data": {
            "text/html": [
              "<div>\n",
              "<style scoped>\n",
              "    .dataframe tbody tr th:only-of-type {\n",
              "        vertical-align: middle;\n",
              "    }\n",
              "\n",
              "    .dataframe tbody tr th {\n",
              "        vertical-align: top;\n",
              "    }\n",
              "\n",
              "    .dataframe thead th {\n",
              "        text-align: right;\n",
              "    }\n",
              "</style>\n",
              "<table border=\"1\" class=\"dataframe\">\n",
              "  <thead>\n",
              "    <tr style=\"text-align: right;\">\n",
              "      <th></th>\n",
              "      <th>bankrupt</th>\n",
              "      <th>roa</th>\n",
              "      <th>operating_gross_margin</th>\n",
              "      <th>current_ratio</th>\n",
              "      <th>quick_ratio</th>\n",
              "      <th>interest_expense_ratio</th>\n",
              "      <th>debt_ratio</th>\n",
              "      <th>working_capital_to_assets</th>\n",
              "      <th>quick_asset_to_assets</th>\n",
              "      <th>current_asset_to_assets</th>\n",
              "      <th>cash_to_assets</th>\n",
              "      <th>quick_assets_to_current_liability</th>\n",
              "      <th>cash_to_current_liability</th>\n",
              "      <th>current_liability_to_assets</th>\n",
              "      <th>bankrupt</th>\n",
              "    </tr>\n",
              "  </thead>\n",
              "  <tbody>\n",
              "    <tr>\n",
              "      <th>473</th>\n",
              "      <td>0</td>\n",
              "      <td>0.568178</td>\n",
              "      <td>0.621499</td>\n",
              "      <td>0.011855</td>\n",
              "      <td>0.006933</td>\n",
              "      <td>0.630951</td>\n",
              "      <td>0.078393</td>\n",
              "      <td>0.789311</td>\n",
              "      <td>0.189091</td>\n",
              "      <td>0.284409</td>\n",
              "      <td>0.065939</td>\n",
              "      <td>0.007685</td>\n",
              "      <td>0.007635</td>\n",
              "      <td>0.045454</td>\n",
              "      <td>0</td>\n",
              "    </tr>\n",
              "    <tr>\n",
              "      <th>6212</th>\n",
              "      <td>0</td>\n",
              "      <td>0.578564</td>\n",
              "      <td>0.609759</td>\n",
              "      <td>0.012415</td>\n",
              "      <td>0.009807</td>\n",
              "      <td>0.630662</td>\n",
              "      <td>0.081537</td>\n",
              "      <td>0.805324</td>\n",
              "      <td>0.322625</td>\n",
              "      <td>0.386253</td>\n",
              "      <td>0.105901</td>\n",
              "      <td>0.010057</td>\n",
              "      <td>0.009505</td>\n",
              "      <td>0.058774</td>\n",
              "      <td>0</td>\n",
              "    </tr>\n",
              "    <tr>\n",
              "      <th>4264</th>\n",
              "      <td>1</td>\n",
              "      <td>0.438086</td>\n",
              "      <td>0.609349</td>\n",
              "      <td>0.008250</td>\n",
              "      <td>0.005787</td>\n",
              "      <td>0.630184</td>\n",
              "      <td>0.190344</td>\n",
              "      <td>0.787303</td>\n",
              "      <td>0.499944</td>\n",
              "      <td>0.490401</td>\n",
              "      <td>0.040788</td>\n",
              "      <td>0.008191</td>\n",
              "      <td>0.001947</td>\n",
              "      <td>0.110956</td>\n",
              "      <td>1</td>\n",
              "    </tr>\n",
              "    <tr>\n",
              "      <th>1278</th>\n",
              "      <td>0</td>\n",
              "      <td>0.540393</td>\n",
              "      <td>0.596023</td>\n",
              "      <td>0.009957</td>\n",
              "      <td>0.002163</td>\n",
              "      <td>0.635096</td>\n",
              "      <td>0.153279</td>\n",
              "      <td>0.806102</td>\n",
              "      <td>0.168071</td>\n",
              "      <td>0.511473</td>\n",
              "      <td>0.055816</td>\n",
              "      <td>0.003161</td>\n",
              "      <td>0.003066</td>\n",
              "      <td>0.096352</td>\n",
              "      <td>0</td>\n",
              "    </tr>\n",
              "    <tr>\n",
              "      <th>2630</th>\n",
              "      <td>0</td>\n",
              "      <td>0.696183</td>\n",
              "      <td>0.643365</td>\n",
              "      <td>0.005842</td>\n",
              "      <td>0.005501</td>\n",
              "      <td>0.630802</td>\n",
              "      <td>0.114339</td>\n",
              "      <td>0.749673</td>\n",
              "      <td>0.179036</td>\n",
              "      <td>0.179763</td>\n",
              "      <td>0.111737</td>\n",
              "      <td>0.005710</td>\n",
              "      <td>0.010203</td>\n",
              "      <td>0.057760</td>\n",
              "      <td>0</td>\n",
              "    </tr>\n",
              "  </tbody>\n",
              "</table>\n",
              "</div>"
            ],
            "text/plain": [
              "      bankrupt       roa  operating_gross_margin  current_ratio  quick_ratio  \\\n",
              "473          0  0.568178                0.621499       0.011855     0.006933   \n",
              "6212         0  0.578564                0.609759       0.012415     0.009807   \n",
              "4264         1  0.438086                0.609349       0.008250     0.005787   \n",
              "1278         0  0.540393                0.596023       0.009957     0.002163   \n",
              "2630         0  0.696183                0.643365       0.005842     0.005501   \n",
              "\n",
              "      interest_expense_ratio  debt_ratio  working_capital_to_assets  \\\n",
              "473                 0.630951    0.078393                   0.789311   \n",
              "6212                0.630662    0.081537                   0.805324   \n",
              "4264                0.630184    0.190344                   0.787303   \n",
              "1278                0.635096    0.153279                   0.806102   \n",
              "2630                0.630802    0.114339                   0.749673   \n",
              "\n",
              "      quick_asset_to_assets  current_asset_to_assets  cash_to_assets  \\\n",
              "473                0.189091                 0.284409        0.065939   \n",
              "6212               0.322625                 0.386253        0.105901   \n",
              "4264               0.499944                 0.490401        0.040788   \n",
              "1278               0.168071                 0.511473        0.055816   \n",
              "2630               0.179036                 0.179763        0.111737   \n",
              "\n",
              "      quick_assets_to_current_liability  cash_to_current_liability  \\\n",
              "473                            0.007685                   0.007635   \n",
              "6212                           0.010057                   0.009505   \n",
              "4264                           0.008191                   0.001947   \n",
              "1278                           0.003161                   0.003066   \n",
              "2630                           0.005710                   0.010203   \n",
              "\n",
              "      current_liability_to_assets  bankrupt  \n",
              "473                      0.045454         0  \n",
              "6212                     0.058774         0  \n",
              "4264                     0.110956         1  \n",
              "1278                     0.096352         0  \n",
              "2630                     0.057760         0  "
            ]
          },
          "metadata": {
            "tags": []
          },
          "execution_count": 17
        }
      ]
    },
    {
      "cell_type": "code",
      "metadata": {
        "colab": {
          "base_uri": "https://localhost:8080/",
          "height": 309
        },
        "id": "kubikHsLNnTn",
        "outputId": "d68d03bf-36d0-473a-a7be-7a1cd38f2607"
      },
      "source": [
        "# minMax scaling the continuous variables\n",
        "minVec = df_train[continuous_vars].min().copy()\n",
        "maxVec = df_train[continuous_vars].max().copy()\n",
        "df_train[continuous_vars] = (df_train[continuous_vars]-minVec)/(maxVec-minVec)\n",
        "df_train.head()"
      ],
      "execution_count": null,
      "outputs": [
        {
          "output_type": "execute_result",
          "data": {
            "text/html": [
              "<div>\n",
              "<style scoped>\n",
              "    .dataframe tbody tr th:only-of-type {\n",
              "        vertical-align: middle;\n",
              "    }\n",
              "\n",
              "    .dataframe tbody tr th {\n",
              "        vertical-align: top;\n",
              "    }\n",
              "\n",
              "    .dataframe thead th {\n",
              "        text-align: right;\n",
              "    }\n",
              "</style>\n",
              "<table border=\"1\" class=\"dataframe\">\n",
              "  <thead>\n",
              "    <tr style=\"text-align: right;\">\n",
              "      <th></th>\n",
              "      <th>bankrupt</th>\n",
              "      <th>roa</th>\n",
              "      <th>operating_gross_margin</th>\n",
              "      <th>current_ratio</th>\n",
              "      <th>quick_ratio</th>\n",
              "      <th>interest_expense_ratio</th>\n",
              "      <th>debt_ratio</th>\n",
              "      <th>working_capital_to_assets</th>\n",
              "      <th>quick_asset_to_assets</th>\n",
              "      <th>current_asset_to_assets</th>\n",
              "      <th>cash_to_assets</th>\n",
              "      <th>quick_assets_to_current_liability</th>\n",
              "      <th>cash_to_current_liability</th>\n",
              "      <th>current_liability_to_assets</th>\n",
              "      <th>bankrupt</th>\n",
              "    </tr>\n",
              "  </thead>\n",
              "  <tbody>\n",
              "    <tr>\n",
              "      <th>473</th>\n",
              "      <td>0</td>\n",
              "      <td>0.568178</td>\n",
              "      <td>0.934373</td>\n",
              "      <td>4.310751e-12</td>\n",
              "      <td>7.511093e-13</td>\n",
              "      <td>0.630951</td>\n",
              "      <td>0.078058</td>\n",
              "      <td>0.789311</td>\n",
              "      <td>0.189091</td>\n",
              "      <td>0.284409</td>\n",
              "      <td>0.071099</td>\n",
              "      <td>8.577482e-13</td>\n",
              "      <td>7.806965e-13</td>\n",
              "      <td>0.045454</td>\n",
              "      <td>0</td>\n",
              "    </tr>\n",
              "    <tr>\n",
              "      <th>6212</th>\n",
              "      <td>0</td>\n",
              "      <td>0.578564</td>\n",
              "      <td>0.916724</td>\n",
              "      <td>4.514523e-12</td>\n",
              "      <td>1.062556e-12</td>\n",
              "      <td>0.630662</td>\n",
              "      <td>0.081204</td>\n",
              "      <td>0.805324</td>\n",
              "      <td>0.322625</td>\n",
              "      <td>0.386253</td>\n",
              "      <td>0.114309</td>\n",
              "      <td>1.126652e-12</td>\n",
              "      <td>9.745217e-13</td>\n",
              "      <td>0.058774</td>\n",
              "      <td>0</td>\n",
              "    </tr>\n",
              "    <tr>\n",
              "      <th>4264</th>\n",
              "      <td>1</td>\n",
              "      <td>0.438086</td>\n",
              "      <td>0.916106</td>\n",
              "      <td>2.999849e-12</td>\n",
              "      <td>6.270171e-13</td>\n",
              "      <td>0.630184</td>\n",
              "      <td>0.190050</td>\n",
              "      <td>0.787303</td>\n",
              "      <td>0.499944</td>\n",
              "      <td>0.490401</td>\n",
              "      <td>0.043904</td>\n",
              "      <td>9.150956e-13</td>\n",
              "      <td>1.912672e-13</td>\n",
              "      <td>0.110956</td>\n",
              "      <td>1</td>\n",
              "    </tr>\n",
              "    <tr>\n",
              "      <th>1278</th>\n",
              "      <td>0</td>\n",
              "      <td>0.540393</td>\n",
              "      <td>0.896072</td>\n",
              "      <td>3.620695e-12</td>\n",
              "      <td>2.343288e-13</td>\n",
              "      <td>0.635096</td>\n",
              "      <td>0.152971</td>\n",
              "      <td>0.806102</td>\n",
              "      <td>0.168071</td>\n",
              "      <td>0.511473</td>\n",
              "      <td>0.060154</td>\n",
              "      <td>3.447465e-13</td>\n",
              "      <td>3.072209e-13</td>\n",
              "      <td>0.096352</td>\n",
              "      <td>0</td>\n",
              "    </tr>\n",
              "    <tr>\n",
              "      <th>2630</th>\n",
              "      <td>0</td>\n",
              "      <td>0.696183</td>\n",
              "      <td>0.967246</td>\n",
              "      <td>2.124401e-12</td>\n",
              "      <td>5.959940e-13</td>\n",
              "      <td>0.630802</td>\n",
              "      <td>0.114018</td>\n",
              "      <td>0.749673</td>\n",
              "      <td>0.179036</td>\n",
              "      <td>0.179763</td>\n",
              "      <td>0.120619</td>\n",
              "      <td>6.337532e-13</td>\n",
              "      <td>1.046895e-12</td>\n",
              "      <td>0.057760</td>\n",
              "      <td>0</td>\n",
              "    </tr>\n",
              "  </tbody>\n",
              "</table>\n",
              "</div>"
            ],
            "text/plain": [
              "      bankrupt       roa  operating_gross_margin  current_ratio   quick_ratio  \\\n",
              "473          0  0.568178                0.934373   4.310751e-12  7.511093e-13   \n",
              "6212         0  0.578564                0.916724   4.514523e-12  1.062556e-12   \n",
              "4264         1  0.438086                0.916106   2.999849e-12  6.270171e-13   \n",
              "1278         0  0.540393                0.896072   3.620695e-12  2.343288e-13   \n",
              "2630         0  0.696183                0.967246   2.124401e-12  5.959940e-13   \n",
              "\n",
              "      interest_expense_ratio  debt_ratio  working_capital_to_assets  \\\n",
              "473                 0.630951    0.078058                   0.789311   \n",
              "6212                0.630662    0.081204                   0.805324   \n",
              "4264                0.630184    0.190050                   0.787303   \n",
              "1278                0.635096    0.152971                   0.806102   \n",
              "2630                0.630802    0.114018                   0.749673   \n",
              "\n",
              "      quick_asset_to_assets  current_asset_to_assets  cash_to_assets  \\\n",
              "473                0.189091                 0.284409        0.071099   \n",
              "6212               0.322625                 0.386253        0.114309   \n",
              "4264               0.499944                 0.490401        0.043904   \n",
              "1278               0.168071                 0.511473        0.060154   \n",
              "2630               0.179036                 0.179763        0.120619   \n",
              "\n",
              "      quick_assets_to_current_liability  cash_to_current_liability  \\\n",
              "473                        8.577482e-13               7.806965e-13   \n",
              "6212                       1.126652e-12               9.745217e-13   \n",
              "4264                       9.150956e-13               1.912672e-13   \n",
              "1278                       3.447465e-13               3.072209e-13   \n",
              "2630                       6.337532e-13               1.046895e-12   \n",
              "\n",
              "      current_liability_to_assets  bankrupt  \n",
              "473                      0.045454         0  \n",
              "6212                     0.058774         0  \n",
              "4264                     0.110956         1  \n",
              "1278                     0.096352         0  \n",
              "2630                     0.057760         0  "
            ]
          },
          "metadata": {
            "tags": []
          },
          "execution_count": 18
        }
      ]
    },
    {
      "cell_type": "markdown",
      "metadata": {
        "id": "91-XubsYUvxF"
      },
      "source": [
        "# Model Fitting and Selection"
      ]
    },
    {
      "cell_type": "code",
      "metadata": {
        "id": "G1WQe_tsNztM"
      },
      "source": [
        "# Support functions\n",
        "from sklearn.preprocessing import PolynomialFeatures\n",
        "from sklearn.model_selection import cross_val_score\n",
        "from sklearn.model_selection import GridSearchCV\n",
        "from scipy.stats import uniform\n",
        "\n",
        "# Fit models\n",
        "from sklearn.linear_model import LogisticRegression\n",
        "from sklearn.svm import SVC\n",
        "from sklearn.ensemble import RandomForestClassifier\n",
        "from xgboost import XGBClassifier\n",
        "\n",
        "# Scoring functions\n",
        "from sklearn.metrics import accuracy_score\n",
        "from sklearn.metrics import classification_report\n",
        "from sklearn.metrics import roc_auc_score\n",
        "from sklearn.metrics import roc_curve"
      ],
      "execution_count": null,
      "outputs": []
    },
    {
      "cell_type": "code",
      "metadata": {
        "id": "ZSNuPgFmN1zR"
      },
      "source": [
        "# Function to give best model score and parameters\n",
        "def best_model(model):\n",
        "    print(model.best_score_)    \n",
        "    print(model.best_params_)\n",
        "    print(model.best_estimator_)\n",
        "def get_auc_scores(y_actual, method,method2):\n",
        "    auc_score = roc_auc_score(y_actual, method); \n",
        "    fpr_df, tpr_df, _ = roc_curve(y_actual, method2); \n",
        "    return (auc_score, fpr_df, tpr_df)"
      ],
      "execution_count": null,
      "outputs": []
    },
    {
      "cell_type": "markdown",
      "metadata": {
        "id": "c9TakD1ZU2WH"
      },
      "source": [
        "# Fit Best Models"
      ]
    },
    {
      "cell_type": "code",
      "metadata": {
        "colab": {
          "base_uri": "https://localhost:8080/"
        },
        "id": "XNyjepqIN3yj",
        "outputId": "2bf33507-d186-48b7-d5ee-003290d6ac07"
      },
      "source": [
        "# Fit primal logistic regression\n",
        "log_primal = LogisticRegression(C=150, class_weight=None, dual=False, fit_intercept=True,intercept_scaling=1, max_iter=250, multi_class='ovr',n_jobs=None, \n",
        "                                penalty='l2', random_state=None, solver='lbfgs',tol=1e-05, verbose=0, warm_start=False)\n",
        "log_primal.fit(df_train.loc[:, df_train.columns != 'bankrupt'],df_train.bankrupt)"
      ],
      "execution_count": null,
      "outputs": [
        {
          "output_type": "execute_result",
          "data": {
            "text/plain": [
              "LogisticRegression(C=150, class_weight=None, dual=False, fit_intercept=True,\n",
              "                   intercept_scaling=1, l1_ratio=None, max_iter=250,\n",
              "                   multi_class='ovr', n_jobs=None, penalty='l2',\n",
              "                   random_state=None, solver='lbfgs', tol=1e-05, verbose=0,\n",
              "                   warm_start=False)"
            ]
          },
          "metadata": {
            "tags": []
          },
          "execution_count": 12
        }
      ]
    },
    {
      "cell_type": "code",
      "metadata": {
        "_uuid": "ba3352d570192e54799310d5a6a46d93997d9f8c",
        "colab": {
          "base_uri": "https://localhost:8080/"
        },
        "id": "zp9Yp5rdJbWF",
        "outputId": "f119b7d7-4ac6-476b-f881-219a279ea3b9"
      },
      "source": [
        "# Fit logistic regression with pol 2 kernel\n",
        "poly2 = PolynomialFeatures(degree=2)\n",
        "df_train_pol2 = poly2.fit_transform(df_train.loc[:, df_train.columns != 'bankrupt'])\n",
        "log_pol2 = LogisticRegression(C=10, class_weight=None, dual=False, fit_intercept=True,intercept_scaling=1, max_iter=300, multi_class='ovr', n_jobs=None, \n",
        "                              penalty='l2', random_state=None, solver='liblinear',tol=0.0001, verbose=0, warm_start=False)\n",
        "log_pol2.fit(df_train_pol2,df_train.bankrupt)"
      ],
      "execution_count": null,
      "outputs": [
        {
          "output_type": "execute_result",
          "data": {
            "text/plain": [
              "LogisticRegression(C=10, class_weight=None, dual=False, fit_intercept=True,\n",
              "                   intercept_scaling=1, l1_ratio=None, max_iter=300,\n",
              "                   multi_class='ovr', n_jobs=None, penalty='l2',\n",
              "                   random_state=None, solver='liblinear', tol=0.0001, verbose=0,\n",
              "                   warm_start=False)"
            ]
          },
          "metadata": {
            "tags": []
          },
          "execution_count": 13
        }
      ]
    },
    {
      "cell_type": "code",
      "metadata": {
        "colab": {
          "base_uri": "https://localhost:8080/"
        },
        "id": "EciuoZgWTOrh",
        "outputId": "a3459bce-d004-437a-d64e-805442d00012"
      },
      "source": [
        "# Fit SVM with RBF Kernel\n",
        "SVM_RBF = SVC(C=100, cache_size=200, class_weight=None, coef0=0.0, decision_function_shape='ovr', degree=3, gamma=0.1, kernel='rbf', max_iter=-1, probability=True, \n",
        "              random_state=None, shrinking=True,tol=0.001, verbose=False)\n",
        "SVM_RBF.fit(df_train.loc[:, df_train.columns != 'bankrupt'],df_train.bankrupt)"
      ],
      "execution_count": null,
      "outputs": [
        {
          "output_type": "execute_result",
          "data": {
            "text/plain": [
              "SVC(C=100, break_ties=False, cache_size=200, class_weight=None, coef0=0.0,\n",
              "    decision_function_shape='ovr', degree=3, gamma=0.1, kernel='rbf',\n",
              "    max_iter=-1, probability=True, random_state=None, shrinking=True, tol=0.001,\n",
              "    verbose=False)"
            ]
          },
          "metadata": {
            "tags": []
          },
          "execution_count": 19
        }
      ]
    },
    {
      "cell_type": "code",
      "metadata": {
        "id": "dU8otaaSJ36B",
        "colab": {
          "base_uri": "https://localhost:8080/"
        },
        "outputId": "c30fc476-b761-4090-c9e2-306cc26257b7"
      },
      "source": [
        "# Fit Random Forest classifier\n",
        "RF = RandomForestClassifier(bootstrap=True, class_weight=None, criterion='gini',max_depth=8, max_features=6, max_leaf_nodes=None,min_impurity_decrease=0.0,\n",
        "                            min_impurity_split=None,min_samples_leaf=1, min_samples_split=3,min_weight_fraction_leaf=0.0, n_estimators=50, n_jobs=None,\n",
        "                            oob_score=False, random_state=None, verbose=0,warm_start=False)\n",
        "RF.fit(df_train.loc[:, df_train.columns != 'bankrupt'],df_train.bankrupt)"
      ],
      "execution_count": null,
      "outputs": [
        {
          "output_type": "execute_result",
          "data": {
            "text/plain": [
              "RandomForestClassifier(bootstrap=True, ccp_alpha=0.0, class_weight=None,\n",
              "                       criterion='gini', max_depth=8, max_features=6,\n",
              "                       max_leaf_nodes=None, max_samples=None,\n",
              "                       min_impurity_decrease=0.0, min_impurity_split=None,\n",
              "                       min_samples_leaf=1, min_samples_split=3,\n",
              "                       min_weight_fraction_leaf=0.0, n_estimators=50,\n",
              "                       n_jobs=None, oob_score=False, random_state=None,\n",
              "                       verbose=0, warm_start=False)"
            ]
          },
          "metadata": {
            "tags": []
          },
          "execution_count": 14
        }
      ]
    },
    {
      "cell_type": "code",
      "metadata": {
        "id": "0MSItsf6TZSV",
        "colab": {
          "base_uri": "https://localhost:8080/"
        },
        "outputId": "85ef807f-fd1f-4fce-93cc-730fbb4d8490"
      },
      "source": [
        "# Fit Extreme Gradient Boost Classifier\n",
        "XGB = XGBClassifier(base_score=0.5, booster='gbtree', colsample_bylevel=1,colsample_bytree=1, gamma=0.01, learning_rate=0.1, max_delta_step=0,max_depth=7,\n",
        "                    min_child_weight=5, missing=None, n_estimators=20,n_jobs=1, nthread=None, objective='binary:logistic', random_state=0,reg_alpha=0, \n",
        "                    reg_lambda=1, scale_pos_weight=1, seed=None, silent=True, subsample=1)\n",
        "XGB.fit(df_train.loc[:, df_train.columns != 'bankrupt'],df_train.bankrupt)"
      ],
      "execution_count": null,
      "outputs": [
        {
          "output_type": "execute_result",
          "data": {
            "text/plain": [
              "XGBClassifier(base_score=0.5, booster='gbtree', colsample_bylevel=1,\n",
              "              colsample_bynode=1, colsample_bytree=1, gamma=0.01,\n",
              "              learning_rate=0.1, max_delta_step=0, max_depth=7,\n",
              "              min_child_weight=5, missing=None, n_estimators=20, n_jobs=1,\n",
              "              nthread=None, objective='binary:logistic', random_state=0,\n",
              "              reg_alpha=0, reg_lambda=1, scale_pos_weight=1, seed=None,\n",
              "              silent=True, subsample=1, verbosity=1)"
            ]
          },
          "metadata": {
            "tags": []
          },
          "execution_count": 15
        }
      ]
    },
    {
      "cell_type": "markdown",
      "metadata": {
        "id": "lJBWvo_NU-rD"
      },
      "source": [
        "# Review best model fit accuracy  "
      ]
    },
    {
      "cell_type": "code",
      "metadata": {
        "id": "w9SmE_JPVBJI",
        "colab": {
          "base_uri": "https://localhost:8080/"
        },
        "outputId": "523664d0-2c0d-4b96-a85f-a3413cb72242"
      },
      "source": [
        "print(classification_report(df_train.bankrupt, log_primal.predict(df_train.loc[:, df_train.columns != 'bankrupt'])))"
      ],
      "execution_count": null,
      "outputs": [
        {
          "output_type": "stream",
          "text": [
            "              precision    recall  f1-score   support\n",
            "\n",
            "           0       0.97      1.00      0.98      5283\n",
            "           1       0.00      0.00      0.00       172\n",
            "\n",
            "    accuracy                           0.97      5455\n",
            "   macro avg       0.48      0.50      0.49      5455\n",
            "weighted avg       0.94      0.97      0.95      5455\n",
            "\n"
          ],
          "name": "stdout"
        },
        {
          "output_type": "stream",
          "text": [
            "/usr/local/lib/python3.7/dist-packages/sklearn/metrics/_classification.py:1272: UndefinedMetricWarning: Precision and F-score are ill-defined and being set to 0.0 in labels with no predicted samples. Use `zero_division` parameter to control this behavior.\n",
            "  _warn_prf(average, modifier, msg_start, len(result))\n"
          ],
          "name": "stderr"
        }
      ]
    },
    {
      "cell_type": "code",
      "metadata": {
        "id": "csT1xbJVVDgG",
        "colab": {
          "base_uri": "https://localhost:8080/"
        },
        "outputId": "be569792-3997-40da-867c-3961f1cf32ea"
      },
      "source": [
        "print(classification_report(df_train.bankrupt,  log_pol2.predict(df_train_pol2)))"
      ],
      "execution_count": null,
      "outputs": [
        {
          "output_type": "stream",
          "text": [
            "              precision    recall  f1-score   support\n",
            "\n",
            "           0       0.97      1.00      0.98      5283\n",
            "           1       0.00      0.00      0.00       172\n",
            "\n",
            "    accuracy                           0.97      5455\n",
            "   macro avg       0.48      0.50      0.49      5455\n",
            "weighted avg       0.94      0.97      0.95      5455\n",
            "\n"
          ],
          "name": "stdout"
        },
        {
          "output_type": "stream",
          "text": [
            "/usr/local/lib/python3.7/dist-packages/sklearn/metrics/_classification.py:1272: UndefinedMetricWarning: Precision and F-score are ill-defined and being set to 0.0 in labels with no predicted samples. Use `zero_division` parameter to control this behavior.\n",
            "  _warn_prf(average, modifier, msg_start, len(result))\n"
          ],
          "name": "stderr"
        }
      ]
    },
    {
      "cell_type": "code",
      "metadata": {
        "id": "ASGNpoY3VGBG",
        "colab": {
          "base_uri": "https://localhost:8080/"
        },
        "outputId": "3436752a-b8b4-4c8c-9cf0-5765141a502f"
      },
      "source": [
        "print(classification_report(df_train.bankrupt,  SVM_RBF.predict(df_train.loc[:, df_train.columns != 'bankrupt'])))"
      ],
      "execution_count": null,
      "outputs": [
        {
          "output_type": "stream",
          "text": [
            "              precision    recall  f1-score   support\n",
            "\n",
            "           0       0.97      1.00      0.98      5283\n",
            "           1       1.00      0.05      0.10       172\n",
            "\n",
            "    accuracy                           0.97      5455\n",
            "   macro avg       0.99      0.53      0.54      5455\n",
            "weighted avg       0.97      0.97      0.96      5455\n",
            "\n"
          ],
          "name": "stdout"
        }
      ]
    },
    {
      "cell_type": "code",
      "metadata": {
        "id": "TqXYsOjPVKlu",
        "colab": {
          "base_uri": "https://localhost:8080/"
        },
        "outputId": "7142c495-87a3-48fb-ce54-ee855fd2663d"
      },
      "source": [
        "print(classification_report(df_train.bankrupt,  RF.predict(df_train.loc[:, df_train.columns != 'bankrupt'])))"
      ],
      "execution_count": null,
      "outputs": [
        {
          "output_type": "stream",
          "text": [
            "              precision    recall  f1-score   support\n",
            "\n",
            "           0       0.99      1.00      0.99      5283\n",
            "           1       1.00      0.60      0.75       172\n",
            "\n",
            "    accuracy                           0.99      5455\n",
            "   macro avg       0.99      0.80      0.87      5455\n",
            "weighted avg       0.99      0.99      0.99      5455\n",
            "\n"
          ],
          "name": "stdout"
        }
      ]
    },
    {
      "cell_type": "code",
      "metadata": {
        "id": "uyJo3ytbVME9",
        "colab": {
          "base_uri": "https://localhost:8080/"
        },
        "outputId": "1b202fca-e86f-49b6-b5c4-c8f6b7e154d0"
      },
      "source": [
        "print(classification_report(df_train.bankrupt,  XGB.predict(df_train.loc[:, df_train.columns != 'bankrupt'])))"
      ],
      "execution_count": null,
      "outputs": [
        {
          "output_type": "stream",
          "text": [
            "              precision    recall  f1-score   support\n",
            "\n",
            "           0       0.98      1.00      0.99      5283\n",
            "           1       0.89      0.37      0.52       172\n",
            "\n",
            "    accuracy                           0.98      5455\n",
            "   macro avg       0.93      0.69      0.76      5455\n",
            "weighted avg       0.98      0.98      0.97      5455\n",
            "\n"
          ],
          "name": "stdout"
        }
      ]
    },
    {
      "cell_type": "markdown",
      "metadata": {
        "id": "VrDlXdPPecQC"
      },
      "source": [
        "## ROC CURVE"
      ]
    },
    {
      "cell_type": "code",
      "metadata": {
        "id": "ztoNeEV7VN8I"
      },
      "source": [
        "y = df_train.bankrupt\n",
        "X = df_train.loc[:, df_train.columns != 'bankrupt']\n",
        "X_pol2 = df_train_pol2\n",
        "auc_log_primal, fpr_log_primal, tpr_log_primal = get_auc_scores(y, log_primal.predict(X),log_primal.predict_proba(X)[:,1])\n",
        "auc_log_pol2, fpr_log_pol2, tpr_log_pol2 = get_auc_scores(y, log_pol2.predict(X_pol2),log_pol2.predict_proba(X_pol2)[:,1])\n",
        "auc_SVM_RBF, fpr_SVM_RBF, tpr_SVM_RBF = get_auc_scores(y, SVM_RBF.predict(X),SVM_RBF.predict_proba(X)[:,1])\n",
        "auc_RF, fpr_RF, tpr_RF = get_auc_scores(y, RF.predict(X),RF.predict_proba(X)[:,1])\n",
        "auc_XGB, fpr_XGB, tpr_XGB = get_auc_scores(y, XGB.predict(X),XGB.predict_proba(X)[:,1])"
      ],
      "execution_count": null,
      "outputs": []
    },
    {
      "cell_type": "code",
      "metadata": {
        "id": "SxVBVMtUVPfo",
        "colab": {
          "base_uri": "https://localhost:8080/",
          "height": 404
        },
        "outputId": "c301c003-b2d2-493e-e2ee-3e5dd404ad4d"
      },
      "source": [
        "plt.figure(figsize = (12,6), linewidth= 1)\n",
        "plt.plot(fpr_log_primal, tpr_log_primal, label = 'log primal Score: ' + str(round(auc_log_primal, 5)))\n",
        "plt.plot(fpr_log_pol2, tpr_log_pol2, label = 'log pol2 score: ' + str(round(auc_log_pol2, 5)))\n",
        "plt.plot(fpr_SVM_RBF, tpr_SVM_RBF, label = 'SVM RBF Score: ' + str(round(auc_SVM_RBF, 5)))\n",
        "plt.plot(fpr_XGB, tpr_XGB, label = 'XGB score: ' + str(round(auc_XGB, 5)))\n",
        "plt.plot(fpr_RF, tpr_RF, label = 'RF score: ' + str(round(auc_RF, 5)))\n",
        "plt.plot([0,1], [0,1], 'k--', label = 'Random: 0.5')\n",
        "plt.xlabel('False positive rate')\n",
        "plt.ylabel('True positive rate')\n",
        "plt.title('ROC Curve')\n",
        "plt.legend(loc='best')\n",
        "#plt.savefig('roc_results_ratios.png')\n",
        "plt.show()"
      ],
      "execution_count": null,
      "outputs": [
        {
          "output_type": "display_data",
          "data": {
            "image/png": "[encoded data removed]",
            "text/plain": [
              "<Figure size 864x432 with 1 Axes>"
            ]
          },
          "metadata": {
            "tags": [],
            "needs_background": "light"
          }
        }
      ]
    },
    {
      "cell_type": "markdown",
      "metadata": {
        "id": "rx5k0QmNWgIW"
      },
      "source": [
        "# Conclusion"
      ]
    },
    {
      "cell_type": "markdown",
      "metadata": {
        "id": "E-EE4MN9Wk_7"
      },
      "source": [
        ""
      ]
    },
    {
      "cell_type": "code",
      "metadata": {
        "id": "ZxT8UY9WEVMf"
      },
      "source": [
        ""
      ],
      "execution_count": null,
      "outputs": []
    },
    {
      "cell_type": "code",
      "metadata": {
        "id": "1cEOYaRfEVMf"
      },
      "source": [
        ""
      ],
      "execution_count": null,
      "outputs": []
    },
    {
      "cell_type": "code",
      "metadata": {
        "id": "AKBeEyLDEVMg"
      },
      "source": [
        ""
      ],
      "execution_count": null,
      "outputs": []
    },
    {
      "cell_type": "code",
      "metadata": {
        "id": "d9c4FolTEVMh"
      },
      "source": [
        ""
      ],
      "execution_count": null,
      "outputs": []
    }
  ]
}